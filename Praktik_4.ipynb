{
  "nbformat": 4,
  "nbformat_minor": 0,
  "metadata": {
    "colab": {
      "provenance": [],
      "authorship_tag": "ABX9TyPuvO5Nf8CKXZTuSborctA5",
      "include_colab_link": true
    },
    "kernelspec": {
      "name": "python3",
      "display_name": "Python 3"
    },
    "language_info": {
      "name": "python"
    }
  },
  "cells": [
    {
      "cell_type": "markdown",
      "metadata": {
        "id": "view-in-github",
        "colab_type": "text"
      },
      "source": [
        "<a href=\"https://colab.research.google.com/github/novalsakti02-kibo/Pemerograman-dasar/blob/main/Praktik_4.ipynb\" target=\"_parent\"><img src=\"https://colab.research.google.com/assets/colab-badge.svg\" alt=\"Open In Colab\"/></a>"
      ]
    },
    {
      "cell_type": "code",
      "execution_count": 8,
      "metadata": {
        "colab": {
          "base_uri": "https://localhost:8080/"
        },
        "id": "H1xfQDG8N92e",
        "outputId": "a94e585e-d8e1-44e5-9e76-0dd175c7b091"
      },
      "outputs": [
        {
          "output_type": "stream",
          "name": "stdout",
          "text": [
            "pengunjung adalah orang dewasa\n"
          ]
        }
      ],
      "source": [
        "\n",
        "umur: int = 20\n",
        "if umur > 17:\n",
        "  print(\"pengunjung adalah orang dewasa\")"
      ]
    },
    {
      "cell_type": "code",
      "source": [
        "username = input(\"masukkan username: \")\n",
        "password = input(\"masukkan password: \")\n",
        "\n",
        "if username == \"Noval\" and password == \"0211\":\n",
        "  print(\"login berhasil\")\n",
        "else:\n",
        "  print(\"login gagal\")"
      ],
      "metadata": {
        "colab": {
          "base_uri": "https://localhost:8080/"
        },
        "id": "bBKif3kqOgFV",
        "outputId": "96685ee8-e075-4bf7-edfa-8e81e16de3c0"
      },
      "execution_count": 3,
      "outputs": [
        {
          "output_type": "stream",
          "name": "stdout",
          "text": [
            "masukkan username: Noval\n",
            "masukkan password: 0211\n",
            "login berhasil\n"
          ]
        }
      ]
    },
    {
      "cell_type": "code",
      "source": [
        "total_belanja = input(\"Total belanja: Rp\")\n",
        "bayar = int(total_belanja)\n",
        "if int(total_belanja) > 200000:\n",
        "  print(\"selamat karena belanja > Rp. 200.000 anda mendapat voucher Makan\")\n",
        "  print(\"dan diskon 5% \")\n",
        "  diskon = int(total_belanja) * 5/100\n",
        "  bayar = int(total_belanja) - diskon\n",
        "  print(\"Total yang harus dibayar: Rp %s\" % bayar)\n",
        "  print(\"terimakasih sudah berbelanja di Toko kami\")\n",
        "  print(\"kami tunggu kunjungan  anda selanjutnya\")"
      ],
      "metadata": {
        "colab": {
          "base_uri": "https://localhost:8080/"
        },
        "id": "pLI-MHjaOuVU",
        "outputId": "42ec0070-4ce3-48cd-c95e-13cd0453ddb6"
      },
      "execution_count": 6,
      "outputs": [
        {
          "output_type": "stream",
          "name": "stdout",
          "text": [
            "Total belanja: Rp250000\n",
            "selamat karena belanja > Rp. 200.000 anda mendapat voucher Makan\n",
            "dan diskon 5% \n",
            "Total yang harus dibayar: Rp 237500.0\n",
            "terimakasih sudah berbelanja di Toko kami\n",
            "kami tunggu kunjungan  anda selanjutnya\n"
          ]
        }
      ]
    },
    {
      "cell_type": "code",
      "source": [
        "\n",
        "ada_notifikasi_baru: bool = True\n",
        "if ada_notifikasi_baru:\n",
        "  print(\"anda memiliki pesan baru!\")"
      ],
      "metadata": {
        "colab": {
          "base_uri": "https://localhost:8080/"
        },
        "id": "a3Y9cZwdPILd",
        "outputId": "f60c96a7-b724-4191-d2ae-16716fd45885"
      },
      "execution_count": 7,
      "outputs": [
        {
          "output_type": "stream",
          "name": "stdout",
          "text": [
            "anda memiliki pesan baru!\n"
          ]
        }
      ]
    },
    {
      "cell_type": "code",
      "source": [
        "# Percabagan Ganda\n",
        "umur = input(\"Berapa umur kamu: \")\n",
        "if int(umur) >= 17:\n",
        "  print(\"kamu boleh membuat KTP\")\n",
        "else:\n",
        "  print(\"kamu boleh membuat KTP\")"
      ],
      "metadata": {
        "colab": {
          "base_uri": "https://localhost:8080/"
        },
        "id": "8g7z4jLNPK3_",
        "outputId": "e1431887-3ef2-4abc-dcec-55b1a7bef53e"
      },
      "execution_count": 9,
      "outputs": [
        {
          "output_type": "stream",
          "name": "stdout",
          "text": [
            "Berapa umur kamu: 20\n",
            "kamu boleh membuat KTP\n"
          ]
        }
      ]
    },
    {
      "cell_type": "code",
      "source": [
        "total_belanja = 250000\n",
        "if total_belanja > 200000:\n",
        "  diskon = total_belanja * 0.10\n",
        "  total_bayar = total_belanja - diskon\n",
        "  print(f\"anda mendapat diskon! Total bayar Rp {total_bayar}\" )\n",
        "else:\n",
        "  print(f\"total bayar:  Rp {total_belanja}\")"
      ],
      "metadata": {
        "colab": {
          "base_uri": "https://localhost:8080/"
        },
        "id": "m1XKMn8zPVZb",
        "outputId": "3a832312-ebf6-4d95-a46b-cac5c644aa95"
      },
      "execution_count": 10,
      "outputs": [
        {
          "output_type": "stream",
          "name": "stdout",
          "text": [
            "anda mendapat diskon! Total bayar Rp 225000.0\n"
          ]
        }
      ]
    },
    {
      "cell_type": "code",
      "source": [
        "\n",
        "angka = int(input(\"Masukkan bilangan:\"))\n",
        "if angka % 2 == 0:\n",
        "  print(\"bilangan genap\")\n",
        "else:\n",
        "  print(\"bilangan ganjil\")"
      ],
      "metadata": {
        "colab": {
          "base_uri": "https://localhost:8080/"
        },
        "id": "dzVstRY9PbJg",
        "outputId": "63ea5b53-c0dc-42ba-994d-dc8ed034d82d"
      },
      "execution_count": 12,
      "outputs": [
        {
          "output_type": "stream",
          "name": "stdout",
          "text": [
            "Masukkan bilangan:4\n",
            "bilangan genap\n"
          ]
        }
      ]
    },
    {
      "cell_type": "code",
      "source": [
        "nilai = 90\n",
        "if nilai >= 85:\n",
        "  print(\"Luar biasa!  Nilai A\")\n",
        "elif nilai >= 70:\n",
        "  print(\"Bagus! Nilai B\")\n",
        "elif nilai >= 60:\n",
        "  print(\"Cukup. Nilai C\")\n",
        "else:\n",
        "  print(\"Nilai kurang, Perlu lebih giat lagi.\")"
      ],
      "metadata": {
        "colab": {
          "base_uri": "https://localhost:8080/"
        },
        "id": "IUXtbEcYPkAu",
        "outputId": "cadce534-06f4-4b09-d1ba-37778eec903e"
      },
      "execution_count": 13,
      "outputs": [
        {
          "output_type": "stream",
          "name": "stdout",
          "text": [
            "Luar biasa!  Nilai A\n"
          ]
        }
      ]
    },
    {
      "cell_type": "code",
      "source": [
        "\n",
        "hari: str = \"rabu\"\n",
        "if hari == \"minggu\" or hari == \"Senin\":\n",
        "  diskon: float = 0.10\n",
        "  print(f\"Selamat! Anda mendapat diskon akhir pekan sebesar {diskon*100}%,\")\n",
        "elif hari == \"kamis\":\n",
        "  diskon: float = 0.15\n",
        "  print(f\"Diskon spesial Kamis! anda mendapat potongan {diskon*100}%.\")\n",
        "else:\n",
        "  diskon: float = 0.05\n",
        "  print(f\"Anda mendapat diskon hari biasa sebesar {diskon*100}%.\")"
      ],
      "metadata": {
        "colab": {
          "base_uri": "https://localhost:8080/"
        },
        "id": "LRlihGiPPp2i",
        "outputId": "8886bf16-1279-4959-e687-e77aa6ff5469"
      },
      "execution_count": 14,
      "outputs": [
        {
          "output_type": "stream",
          "name": "stdout",
          "text": [
            "Anda mendapat diskon hari biasa sebesar 5.0%.\n"
          ]
        }
      ]
    },
    {
      "cell_type": "code",
      "source": [
        "\n",
        "rupiah = int(input(\"Masukkan jumlah uang (Rp):  \"))\n",
        "print(\"1. Dollar (USD)\")\n",
        "print(\"2. Euro (EUR)\")\n",
        "print(\"3. Yen (JPY)\")\n",
        "pilih = int(input(\"Pilih konversi (1/2/3):  \"))\n",
        "\n",
        "if pilih == 1:\n",
        "  print(\"Dalam Dollar:\", rupiah / 15000)\n",
        "elif pilih == 2:\n",
        "  print(\"Dalam Euro  :\", rupiah / 16000)\n",
        "elif pilih == 3:\n",
        "  print(\"Dalam Yen   :\", rupiah / 120)\n",
        "else:\n",
        "  print(\"Pilihan yang tidak valid\")\n"
      ],
      "metadata": {
        "colab": {
          "base_uri": "https://localhost:8080/"
        },
        "id": "YdLewedyPs3Z",
        "outputId": "ef3c6494-070c-409a-e3d0-92566157fa6e"
      },
      "execution_count": 15,
      "outputs": [
        {
          "output_type": "stream",
          "name": "stdout",
          "text": [
            "Masukkan jumlah uang (Rp):  50000\n",
            "1. Dollar (USD)\n",
            "2. Euro (EUR)\n",
            "3. Yen (JPY)\n",
            "Pilih konversi (1/2/3):  1\n",
            "Dalam Dollar: 3.3333333333333335\n"
          ]
        }
      ]
    }
  ]
}