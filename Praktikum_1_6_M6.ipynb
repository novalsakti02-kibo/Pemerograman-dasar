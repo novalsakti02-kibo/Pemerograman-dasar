{
  "nbformat": 4,
  "nbformat_minor": 0,
  "metadata": {
    "colab": {
      "provenance": [],
      "authorship_tag": "ABX9TyMkGsyEQlYaqOZnTT07U+9V",
      "include_colab_link": true
    },
    "kernelspec": {
      "name": "python3",
      "display_name": "Python 3"
    },
    "language_info": {
      "name": "python"
    }
  },
  "cells": [
    {
      "cell_type": "markdown",
      "metadata": {
        "id": "view-in-github",
        "colab_type": "text"
      },
      "source": [
        "<a href=\"https://colab.research.google.com/github/novalsakti02-kibo/Pemerograman-dasar/blob/main/Praktikum_1_6_M6.ipynb\" target=\"_parent\"><img src=\"https://colab.research.google.com/assets/colab-badge.svg\" alt=\"Open In Colab\"/></a>"
      ]
    },
    {
      "cell_type": "code",
      "source": [
        "def sapa_praktikan():\n",
        "    \"\"\"Mencetak pesan sambutan dasar.\"\"\"\n",
        "    print(\"Sistem siap. Selamat datang kembali di sesi praktikum.\")\n",
        "\n",
        "def Biodata():\n",
        "    \"\"\"Menampilkan biodata lengkap.\"\"\"\n",
        "    print(\"=== BIODATA PRAKTIKAN ===\")\n",
        "    print(\"Nama       : Noval Sakti Ramadani\")\n",
        "    print(\"NIM        : 4232411026\")\n",
        "    print(\"Umur       : 20 Tahun\")\n",
        "    print(\"Jurusan    : Teknik Elektro\")\n",
        "    print(\"Prodi      : Teknik Rekayasa Pembangkit Energi\")\n",
        "    print(\"Semester   : 3\")\n",
        "    print(\"Status     : Belum Menikah\")\n",
        "\n",
        "# Pemanggilan fungsi\n",
        "sapa_praktikan()\n",
        "Biodata()\n"
      ],
      "metadata": {
        "colab": {
          "base_uri": "https://localhost:8080/"
        },
        "id": "_tOYBMUCliNP",
        "outputId": "a0ca5344-d9ea-49a6-c8b1-f54002dbd055"
      },
      "execution_count": 11,
      "outputs": [
        {
          "output_type": "stream",
          "name": "stdout",
          "text": [
            "Sistem siap. Selamat datang kembali di sesi praktikum.\n",
            "=== BIODATA PRAKTIKAN ===\n",
            "Nama       : Noval Sakti Ramadani\n",
            "NIM        : 4232411026\n",
            "Umur       : 20 Tahun\n",
            "Jurusan    : Teknik Elektro\n",
            "Prodi      : Teknik Rekayasa Pembangkit Energi\n",
            "Semester   : 3\n",
            "Status     : Belum Menikah\n"
          ]
        }
      ]
    },
    {
      "cell_type": "code",
      "execution_count": 7,
      "metadata": {
        "colab": {
          "base_uri": "https://localhost:8080/"
        },
        "id": "HK-y2Il6d993",
        "outputId": "e71b8cae-8ccb-4185-8e0b-2bda12a16f38"
      },
      "outputs": [
        {
          "output_type": "stream",
          "name": "stdout",
          "text": [
            "Volume balok dengan panjang 5, lebar 4, dan tinggi 7 adalah: 140\n"
          ]
        }
      ],
      "source": [
        "# SOAL 2: Menghitung Volume Kubus\n",
        "def hitung_volume_balok(panjang, lebar, tinggi):\n",
        "    \"\"\"Menghitung volume balok berdasarkan panjang, lebar, dan tinggi.\"\"\"\n",
        "    return panjang * lebar * tinggi\n",
        "\n",
        "# Pemanggilan fungsi\n",
        "p = 5\n",
        "l = 4\n",
        "t = 7\n",
        "print(f\"Volume balok dengan panjang {p}, lebar {l}, dan tinggi {t} adalah: {hitung_volume_balok(p, l, t)}\")\n"
      ]
    },
    {
      "cell_type": "code",
      "source": [
        "def hitung_rata_rata(data_nilai):\n",
        "    \"\"\"Menghitung rata-rata dari list angka menggunakan perulangan for dan validasi nilai.\"\"\"\n",
        "    total = 0\n",
        "    jumlah_data = 0\n",
        "\n",
        "    # Perulangan untuk menjumlahkan nilai\n",
        "    for nilai in data_nilai:\n",
        "        # Mengecek apakah nilai valid (antara 0 dan 100)\n",
        "        if 0 <= nilai <= 100:\n",
        "            total += nilai\n",
        "            jumlah_data += 1\n",
        "        else:\n",
        "            print(f\"Nilai {nilai} diabaikan karena tidak valid (di bawah 0 atau di atas 100).\")\n",
        "\n",
        "    # Pembagian untuk rata-rata\n",
        "    if jumlah_data > 0:\n",
        "        return total / jumlah_data\n",
        "    return 0\n",
        "\n",
        "# Pemanggilan:\n",
        "nilai_praktikan = [85, 78, 92, -5, 110, 90]\n",
        "print(f\"Nilai rata-rata kelas adalah: {hitung_rata_rata(nilai_praktikan)}\")\n"
      ],
      "metadata": {
        "colab": {
          "base_uri": "https://localhost:8080/"
        },
        "id": "FWtYQalZlfsc",
        "outputId": "beed03d9-54b3-442f-888f-c903185fe768"
      },
      "execution_count": 6,
      "outputs": [
        {
          "output_type": "stream",
          "name": "stdout",
          "text": [
            "Nilai -5 diabaikan karena tidak valid (di bawah 0 atau di atas 100).\n",
            "Nilai 110 diabaikan karena tidak valid (di bawah 0 atau di atas 100).\n",
            "Nilai rata-rata kelas adalah: 86.25\n"
          ]
        }
      ]
    },
    {
      "cell_type": "code",
      "source": [
        "def tentukan_predikat(skor):\n",
        "    \"\"\"Menentukan predikat (A, B, C, D, E) berdasarkan skor dengan validasi tipe data.\"\"\"\n",
        "\n",
        "    # Pengecekan tipe data\n",
        "    if not isinstance(skor, (int, float)):\n",
        "        return \"Error: Skor harus berupa angka (int atau float).\"\n",
        "\n",
        "    # Percabangan penentuan predikat\n",
        "    if skor >= 85:\n",
        "        return \"A\"\n",
        "    elif skor >= 70:\n",
        "        return \"B\"\n",
        "    elif skor >= 60:\n",
        "        return \"C\"\n",
        "    elif skor >= 50:\n",
        "        return \"D\"\n",
        "    else:\n",
        "        return \"E\"\n",
        "\n",
        "# Pemanggilan fungsi\n",
        "print(f\"Skor 75 mendapat predikat: {tentukan_predikat(75)}\")\n",
        "print(f\"Skor 48 mendapat predikat: {tentukan_predikat(48)}\")\n",
        "print(f\"Skor 'A+' mendapat predikat: {tentukan_predikat('A+')}\")\n"
      ],
      "metadata": {
        "colab": {
          "base_uri": "https://localhost:8080/"
        },
        "id": "SaESlWMJljmP",
        "outputId": "78225d65-45e9-4e87-c6b8-e2ec0817fbab"
      },
      "execution_count": 4,
      "outputs": [
        {
          "output_type": "stream",
          "name": "stdout",
          "text": [
            "Skor 75 mendapat predikat: B\n",
            "Skor 48 mendapat predikat: E\n",
            "Skor 'A+' mendapat predikat: Error: Skor harus berupa angka (int atau float).\n"
          ]
        }
      ]
    },
    {
      "cell_type": "code",
      "source": [
        "def hitung_faktorial(n):\n",
        "    \"\"\"Menghitung faktorial dari bilangan positif n dengan perulangan while dan pengecekan kondisi khusus.\"\"\"\n",
        "\n",
        "    # Pengecekan nilai n\n",
        "    if n < 0:\n",
        "        return \"Error: Faktorial tidak dapat dihitung untuk bilangan negatif.\"\n",
        "    elif n == 0:\n",
        "        return 1  # Faktorial dari 0 adalah 1\n",
        "\n",
        "    hasil = 1\n",
        "\n",
        "    # Perulangan berjalan selama n lebih besar dari 1\n",
        "    while n > 1:\n",
        "        hasil *= n\n",
        "        n -= 1  # Kurangi n setiap iterasi\n",
        "\n",
        "    return hasil\n",
        "\n",
        "# Pemanggilan:\n",
        "bilangan_n = 4\n",
        "print(f\"Faktorial dari {bilangan_n} adalah: {hitung_faktorial(bilangan_n)}\")\n",
        "\n",
        "# Contoh tambahan:\n",
        "print(f\"Faktorial dari 0 adalah: {hitung_faktorial(0)}\")\n",
        "print(f\"Faktorial dari -3 adalah: {hitung_faktorial(-3)}\")\n"
      ],
      "metadata": {
        "colab": {
          "base_uri": "https://localhost:8080/"
        },
        "id": "Afhtn2XVsRJy",
        "outputId": "c9e9c149-3404-498e-93e5-6e3acf7be0dc"
      },
      "execution_count": 9,
      "outputs": [
        {
          "output_type": "stream",
          "name": "stdout",
          "text": [
            "Faktorial dari 4 adalah: 24\n",
            "Faktorial dari 0 adalah: 1\n",
            "Faktorial dari -3 adalah: Error: Faktorial tidak dapat dihitung untuk bilangan negatif.\n"
          ]
        }
      ]
    },
    {
      "cell_type": "code",
      "source": [
        "def analisis_suhu(data_suhu, batas_panas=35, batas_dingin=15):\n",
        "    \"\"\"Menghitung jumlah hari Panas dan Dingin dari data_suhu dengan batas suhu yang dapat diatur.\"\"\"\n",
        "    panas_count = 0\n",
        "    dingin_count = 0\n",
        "\n",
        "    for suhu in data_suhu:\n",
        "        if suhu >= batas_panas:\n",
        "            panas_count += 1\n",
        "        elif suhu <= batas_dingin:\n",
        "            dingin_count += 1\n",
        "\n",
        "    return panas_count, dingin_count\n",
        "\n",
        "# Pemanggilan:\n",
        "suhu_mingguan = [36, 30, 14, 25, 38, 16, 28]\n",
        "jumlah_panas, jumlah_dingin = analisis_suhu(suhu_mingguan)\n",
        "\n",
        "print(f\"Jumlah hari Panas (>=35°C): {jumlah_panas}\")\n",
        "print(f\"Jumlah hari Dingin (<=15°C): {jumlah_dingin}\")\n"
      ],
      "metadata": {
        "colab": {
          "base_uri": "https://localhost:8080/"
        },
        "id": "flQVDRuUljpZ",
        "outputId": "1207e3ec-e5f4-4cb3-d4b0-bcfbf654ce65"
      },
      "execution_count": 10,
      "outputs": [
        {
          "output_type": "stream",
          "name": "stdout",
          "text": [
            "Jumlah hari Panas (>=35°C): 2\n",
            "Jumlah hari Dingin (<=15°C): 1\n"
          ]
        }
      ]
    }
  ]
}