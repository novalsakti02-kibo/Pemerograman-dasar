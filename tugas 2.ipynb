{
  "nbformat": 4,
  "nbformat_minor": 0,
  "metadata": {
    "colab": {
      "provenance": [],
      "authorship_tag": "ABX9TyNp4sWZ7ePoKuQMNJK/ot1K",
      "include_colab_link": true
    },
    "kernelspec": {
      "name": "python3",
      "display_name": "Python 3"
    },
    "language_info": {
      "name": "python"
    }
  },
  "cells": [
    {
      "cell_type": "markdown",
      "metadata": {
        "id": "view-in-github",
        "colab_type": "text"
      },
      "source": [
        "<a href=\"https://colab.research.google.com/github/novalsakti02-kibo/Pemerograman-dasar/blob/main/tugas%202.ipynb\" target=\"_parent\"><img src=\"https://colab.research.google.com/assets/colab-badge.svg\" alt=\"Open In Colab\"/></a>"
      ]
    },
    {
      "cell_type": "code",
      "execution_count": 2,
      "metadata": {
        "colab": {
          "base_uri": "https://localhost:8080/"
        },
        "id": "kDA_g0x7keAS",
        "outputId": "a42d8d57-cd9c-4a54-b8f6-452340f72dad"
      },
      "outputs": [
        {
          "output_type": "stream",
          "name": "stdout",
          "text": [
            "noval sakti\n",
            "ramadani\n",
            "20\n",
            "False\n"
          ]
        }
      ],
      "source": [
        "#data diri\n",
        "firstName = \"noval sakti\"\n",
        "lastName = \"ramadani\"\n",
        "age = 20\n",
        "isMarried = False\n",
        "\n",
        "print (firstName)\n",
        "print (lastName)\n",
        "print (age)\n",
        "print (isMarried)"
      ]
    },
    {
      "cell_type": "code",
      "source": [
        "#data diri dengan dictionary\n",
        "datadiri = {\"firstName\": \"noval sakti\", \"lastName\": \"ramadani\", \"age\": 20, \"isMarried\": False}\n",
        "print (datadiri)\n"
      ],
      "metadata": {
        "colab": {
          "base_uri": "https://localhost:8080/"
        },
        "id": "Ye-Es9xCku69",
        "outputId": "9b408346-0bc6-4688-b02f-0dc0c75e2392"
      },
      "execution_count": 3,
      "outputs": [
        {
          "output_type": "stream",
          "name": "stdout",
          "text": [
            "{'firstName': 'noval sakti', 'lastName': 'ramadani', 'age': 20, 'isMarried': False}\n"
          ]
        }
      ]
    },
    {
      "cell_type": "code",
      "source": [
        "inspeksi = [\"pemahaman terhadap rencana dan desain\",\"ketersediaan bahan dan peralatan\",\"pengawasan pekerjaan\",\"kualitas konstruksi\",\"keselamatan kerja\",\"koordinasi dengan pemilik proyek\"]\n",
        "\n",
        "print (inspeksi)\n",
        "\n"
      ],
      "metadata": {
        "colab": {
          "base_uri": "https://localhost:8080/"
        },
        "id": "6Cdmap8DlRy5",
        "outputId": "235fd961-0115-48d3-f90d-55ff9a3a31c5"
      },
      "execution_count": 4,
      "outputs": [
        {
          "output_type": "stream",
          "name": "stdout",
          "text": [
            "['pemahaman terhadap rencana dan desain', 'ketersediaan bahan dan peralatan', 'pengawasan pekerjaan', 'kualitas konstruksi', 'keselamatan kerja', 'koordinasi dengan pemilik proyek']\n"
          ]
        }
      ]
    },
    {
      "cell_type": "code",
      "source": [
        "# Waktu datang\n",
        "startTime = {\"HH\": 9,\"mm\": 23,\"ss\": 57}\n",
        "\n",
        "# Waktu pulang\n",
        "endTime = {\"HH\": 15,\"mm\": 25,\"ss\": 43}\n",
        "\n",
        "print (startTime)\n",
        "print (endTime)"
      ],
      "metadata": {
        "colab": {
          "base_uri": "https://localhost:8080/"
        },
        "id": "4Yqa4fPalWLj",
        "outputId": "07c03513-8f47-45e2-e762-8f885f59a3c1"
      },
      "execution_count": 5,
      "outputs": [
        {
          "output_type": "stream",
          "name": "stdout",
          "text": [
            "{'HH': 9, 'mm': 23, 'ss': 57}\n",
            "{'HH': 15, 'mm': 25, 'ss': 43}\n"
          ]
        }
      ]
    },
    {
      "cell_type": "code",
      "source": [
        "# Katalog produk dari dua pemasok\n",
        "katalog_A = {\"Laptop\", \"Smartphone\", \"Tablet\", \"Headphone\"}\n",
        "katalog_B = {\"Smartwatch\", \"Tablet\", \"Laptop\", \"Kamera\"}\n",
        "\n",
        "# Daftar produk yang sedang diskon\n",
        "produk_diskon = (\"Laptop\", \"Kamera\", \"Speaker\")\n",
        "\n",
        "# 1. Gabungan katalog_A dan katalog_B\n",
        "katalog_lengkap = katalog_A.union(katalog_B)\n",
        "\n",
        "# 2. Produk yang ada di katalog_lengkap dan juga di produk_diskon\n",
        "produk_promo_aktif = katalog_lengkap.intersection(produk_diskon)\n",
        "\n",
        "print (katalog_lengkap)\n",
        "print (produk_promo_aktif)"
      ],
      "metadata": {
        "colab": {
          "base_uri": "https://localhost:8080/"
        },
        "id": "SpJgOhZRlaZH",
        "outputId": "3b21bbcd-0a0d-445b-e58e-ef7215e8f49e"
      },
      "execution_count": 6,
      "outputs": [
        {
          "output_type": "stream",
          "name": "stdout",
          "text": [
            "{'Headphone', 'Tablet', 'Kamera', 'Smartphone', 'Laptop', 'Smartwatch'}\n",
            "{'Laptop', 'Kamera'}\n"
          ]
        }
      ]
    }
  ]
}