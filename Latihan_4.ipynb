{
  "nbformat": 4,
  "nbformat_minor": 0,
  "metadata": {
    "colab": {
      "provenance": [],
      "authorship_tag": "ABX9TyNQagHl2MRGeDNN8t1aKU6Q",
      "include_colab_link": true
    },
    "kernelspec": {
      "name": "python3",
      "display_name": "Python 3"
    },
    "language_info": {
      "name": "python"
    }
  },
  "cells": [
    {
      "cell_type": "markdown",
      "metadata": {
        "id": "view-in-github",
        "colab_type": "text"
      },
      "source": [
        "<a href=\"https://colab.research.google.com/github/novalsakti02-kibo/Pemerograman-dasar/blob/main/Latihan_4.ipynb\" target=\"_parent\"><img src=\"https://colab.research.google.com/assets/colab-badge.svg\" alt=\"Open In Colab\"/></a>"
      ]
    },
    {
      "cell_type": "code",
      "execution_count": 1,
      "metadata": {
        "colab": {
          "base_uri": "https://localhost:8080/"
        },
        "id": "D1kabEoXQtxP",
        "outputId": "3fcf3d47-3db6-41ab-c313-aee135ba408a"
      },
      "outputs": [
        {
          "output_type": "stream",
          "name": "stdout",
          "text": [
            "Masukkan angka: 15\n",
            "kelipatan 5\n",
            "Masukkan angka: 8\n",
            "Bukan kelipatan 5\n"
          ]
        }
      ],
      "source": [
        "\n",
        "# Kelipatan 5\n",
        "angka = int(input(\"Masukkan angka: \"))\n",
        "if angka % 5 == 0:\n",
        "  print(\"kelipatan 5\")\n",
        "else:\n",
        "  print(\"Bukan kelipatan 5\")\n",
        "\n",
        "angka = int(input(\"Masukkan angka: \"))\n",
        "if angka % 5 == 0:\n",
        "  print(\"kelipatan 5\")\n",
        "else:\n",
        "  print(\"Bukan kelipatan 5\")"
      ]
    },
    {
      "cell_type": "code",
      "source": [
        "# Menentukan Tahun Kabisat\n",
        "tahun = int(input(\"Masukkan tahun:\"))\n",
        "if tahun % 400 == 0:\n",
        "  print(\"Tahun kabisat\")\n",
        "elif tahun % 4 == 0 and tahun % 100 !=0:\n",
        "  print(\"Tahun kabisat\")\n",
        "else:\n",
        "  print(\"Bukan tahun kabisat\")\n",
        "\n",
        "tahun = int(input(\"Masukkan tahun:\"))\n",
        "if tahun % 400 == 0:\n",
        "  print(\"Tahun kabisat\")\n",
        "elif tahun % 4 == 0 and tahun % 100 !=0:\n",
        "  print(\"Tahun kabisat\")\n",
        "else:\n",
        "  print(\"Bukan tahun kabisat\")"
      ],
      "metadata": {
        "colab": {
          "base_uri": "https://localhost:8080/"
        },
        "id": "sY0c9u_TQ2W1",
        "outputId": "cf6bb92f-787d-4829-d6c5-6a1ab1e46910"
      },
      "execution_count": 2,
      "outputs": [
        {
          "output_type": "stream",
          "name": "stdout",
          "text": [
            "Masukkan tahun:2024\n",
            "Tahun kabisat\n",
            "Masukkan tahun:2025\n",
            "Bukan tahun kabisat\n"
          ]
        }
      ]
    },
    {
      "cell_type": "code",
      "source": [
        "# Soal Matematika\n",
        "a = int(input(\"Masukkan angka pertama:\"))\n",
        "b = int(input(\"Masukkan angka Kedua  :\"))\n",
        "c = int(input(\"Masukkan angka ketiga :\"))\n",
        "\n",
        "hasil = a + c * b\n",
        "print(\"Hasil dari perhitungan diatas= \", hasil)\n",
        "if hasil > 100 == 0:\n",
        "  print(\"Hasil lebih dari 10 \")\n",
        "else:\n",
        "  print(\"Hasil kurang dari 10\")"
      ],
      "metadata": {
        "colab": {
          "base_uri": "https://localhost:8080/"
        },
        "id": "h3Ma5EGlQ-0Q",
        "outputId": "359cd200-6241-4854-aa27-e8f7b15594d1"
      },
      "execution_count": 3,
      "outputs": [
        {
          "output_type": "stream",
          "name": "stdout",
          "text": [
            "Masukkan angka pertama:2\n",
            "Masukkan angka Kedua  :2\n",
            "Masukkan angka ketiga :2\n",
            "Hasil dari perhitungan diatas=  6\n",
            "Hasil kurang dari 10\n"
          ]
        }
      ]
    },
    {
      "cell_type": "code",
      "source": [
        "\n",
        "# Input Bulan\n",
        "bulan = int(input(\"Masukkan angka bulan (1-12): \"))\n",
        "if bulan == 1:\n",
        "  print(\"Januari\")\n",
        "elif bulan == 2:\n",
        "  print(\"Februari\")\n",
        "elif bulan == 3:\n",
        "  print(\"Maret\")\n",
        "elif bulan == 4:\n",
        "  print(\"April\")\n",
        "elif bulan == 5:\n",
        "  print(\"Mei\")\n",
        "elif bulan == 6:\n",
        "  print(\"Juni\")\n",
        "elif bulan == 7:\n",
        "  print(\"Juli\")\n",
        "elif bulan == 8:\n",
        "  print(\"Agustus\")\n",
        "elif bulan == 9:\n",
        "  print(\"September\")\n",
        "  print(\"Oktober\")\n",
        "elif bulan == 10:\n",
        "  print(\"Oktober\")\n",
        "elif bulan == 11:\n",
        "  print(\"November\")\n",
        "elif bulan == 12:\n",
        "  print(\"Desember\")\n",
        "else:\n",
        "  print(\"Input Salah\")"
      ],
      "metadata": {
        "colab": {
          "base_uri": "https://localhost:8080/"
        },
        "id": "MdUH_zk6REgY",
        "outputId": "1aa42985-ebd0-45d1-a0df-ef2b8838816e"
      },
      "execution_count": 4,
      "outputs": [
        {
          "output_type": "stream",
          "name": "stdout",
          "text": [
            "Masukkan angka bulan (1-12): 11\n",
            "November\n"
          ]
        }
      ]
    },
    {
      "cell_type": "code",
      "source": [
        "\n",
        "# Salam Sesuai Jam\n",
        "jam = int(input(\"Masukkan jam (0-23):\"))\n",
        "if 0 <= jam <= 11:\n",
        "  print(\"Selamat Pagi\")\n",
        "elif 12 <= jam <= 15:\n",
        "  print(\"Selamat Siang\")\n",
        "elif 16 <= jam <= 18:\n",
        "  print(\"Selamat Sore\")\n",
        "elif 19 <= jam <= 23:\n",
        "  print(\"Selamat Malam\")\n",
        "else:\n",
        "  print(\"Input Salah\")"
      ],
      "metadata": {
        "colab": {
          "base_uri": "https://localhost:8080/"
        },
        "id": "2aGw_OA9RNob",
        "outputId": "293fe8e6-2ebd-4d28-f619-9dbe8a391a26"
      },
      "execution_count": 5,
      "outputs": [
        {
          "output_type": "stream",
          "name": "stdout",
          "text": [
            "Masukkan jam (0-23):20\n",
            "Selamat Malam\n"
          ]
        }
      ]
    }
  ]
}