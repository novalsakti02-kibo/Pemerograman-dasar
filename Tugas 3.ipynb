{
  "nbformat": 4,
  "nbformat_minor": 0,
  "metadata": {
    "colab": {
      "provenance": [],
      "authorship_tag": "ABX9TyOV9cOErL6V+1kv2clk4M9S",
      "include_colab_link": true
    },
    "kernelspec": {
      "name": "python3",
      "display_name": "Python 3"
    },
    "language_info": {
      "name": "python"
    }
  },
  "cells": [
    {
      "cell_type": "markdown",
      "metadata": {
        "id": "view-in-github",
        "colab_type": "text"
      },
      "source": [
        "<a href=\"https://colab.research.google.com/github/novalsakti02-kibo/Pemerograman-dasar/blob/main/Tugas%203.ipynb\" target=\"_parent\"><img src=\"https://colab.research.google.com/assets/colab-badge.svg\" alt=\"Open In Colab\"/></a>"
      ]
    },
    {
      "cell_type": "code",
      "execution_count": 1,
      "metadata": {
        "colab": {
          "base_uri": "https://localhost:8080/"
        },
        "id": "9nneYEKZ5jib",
        "outputId": "67d81410-ea37-42cb-82a0-a8bdf8bd92f3"
      },
      "outputs": [
        {
          "output_type": "stream",
          "name": "stdout",
          "text": [
            "Masukkan jumlah item yang dibeli: 2\n",
            "Masukkan harga item ke-1: Rp 100000\n",
            "Masukkan harga item ke-2: Rp 200000\n",
            "Apakah pelanggan adalah member? (ya/tidak): ya\n",
            "\n",
            "Subtotal belanja: Rp 300,000.00\n",
            "Diskon: Rp 45,000.00\n",
            "Harga setelah diskon: Rp 255,000.00\n",
            "PPN (11%): Rp 28,050.00\n",
            "Total yang harus dibayar: Rp 283,050.00\n"
          ]
        }
      ],
      "source": [
        "# Program Kasir Sederhana\n",
        "\n",
        "# Input data belanja\n",
        "jumlah_item = int(input(\"Masukkan jumlah item yang dibeli: \"))\n",
        "\n",
        "# Menyimpan harga tiap item dalam list\n",
        "harga_items = []\n",
        "for i in range(jumlah_item):\n",
        "    harga = float(input(f\"Masukkan harga item ke-{i+1}: Rp \"))\n",
        "    harga_items.append(harga)\n",
        "\n",
        "# Input status member\n",
        "member = input(\"Apakah pelanggan adalah member? (ya/tidak): \").lower()\n",
        "\n",
        "# 1. Hitung Subtotal\n",
        "subtotal = sum(harga_items)\n",
        "print(f\"\\nSubtotal belanja: Rp {subtotal:,.2f}\")\n",
        "\n",
        "# 2. Evaluasi syarat diskon\n",
        "if member == \"ya\" and subtotal > 100000:\n",
        "    diskon = 0.15 * subtotal\n",
        "else:\n",
        "    diskon = 0\n",
        "\n",
        "# 3. Hitung harga setelah diskon\n",
        "harga_setelah_diskon = subtotal - diskon\n",
        "print(f\"Diskon: Rp {diskon:,.2f}\")\n",
        "print(f\"Harga setelah diskon: Rp {harga_setelah_diskon:,.2f}\")\n",
        "\n",
        "# 4. Hitung PPN 11%\n",
        "ppn = 0.11 * harga_setelah_diskon\n",
        "print(f\"PPN (11%): Rp {ppn:,.2f}\")\n",
        "\n",
        "# 5. Hitung total akhir\n",
        "total_akhir = harga_setelah_diskon + ppn\n",
        "print(f\"Total yang harus dibayar: Rp {total_akhir:,.2f}\")\n"
      ]
    }
  ]
}