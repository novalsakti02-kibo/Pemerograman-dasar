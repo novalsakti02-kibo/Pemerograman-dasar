{
  "nbformat": 4,
  "nbformat_minor": 0,
  "metadata": {
    "colab": {
      "provenance": [],
      "authorship_tag": "ABX9TyORfZ8a42Yh/p+wTLjNUCiW",
      "include_colab_link": true
    },
    "kernelspec": {
      "name": "python3",
      "display_name": "Python 3"
    },
    "language_info": {
      "name": "python"
    }
  },
  "cells": [
    {
      "cell_type": "markdown",
      "metadata": {
        "id": "view-in-github",
        "colab_type": "text"
      },
      "source": [
        "<a href=\"https://colab.research.google.com/github/novalsakti02-kibo/Pemerograman-dasar/blob/main/Latihan%20Soal%201.ipynb\" target=\"_parent\"><img src=\"https://colab.research.google.com/assets/colab-badge.svg\" alt=\"Open In Colab\"/></a>"
      ]
    },
    {
      "cell_type": "code",
      "execution_count": 1,
      "metadata": {
        "colab": {
          "base_uri": "https://localhost:8080/"
        },
        "id": "Eoi0QTyXx0_T",
        "outputId": "d4a7ab00-6468-4eac-e806-35830cbe08a7"
      },
      "outputs": [
        {
          "output_type": "stream",
          "name": "stdout",
          "text": [
            "Masukkan tahun: 2025\n",
            "2025 bukan tahun kabisat.\n"
          ]
        }
      ],
      "source": [
        "# Fungsi untuk menentukan apakah tahun kabisat atau tidak\n",
        "def cek_tahun_kabisat(tahun):\n",
        "    if (tahun % 4 == 0 and tahun % 100 != 0) or (tahun % 400 == 0):\n",
        "        return True\n",
        "    else:\n",
        "        return False\n",
        "\n",
        "# Input tahun dari pengguna\n",
        "tahun = int(input(\"Masukkan tahun: \"))\n",
        "\n",
        "# Output hasil\n",
        "if cek_tahun_kabisat(tahun):\n",
        "    print(f\"{tahun} adalah tahun kabisat.\")\n",
        "else:\n",
        "    print(f\"{tahun} bukan tahun kabisat.\")"
      ]
    }
  ]
}