{
  "nbformat": 4,
  "nbformat_minor": 0,
  "metadata": {
    "colab": {
      "provenance": [],
      "authorship_tag": "ABX9TyPTnO2tue5Gxt6GA8q2JAHd",
      "include_colab_link": true
    },
    "kernelspec": {
      "name": "python3",
      "display_name": "Python 3"
    },
    "language_info": {
      "name": "python"
    }
  },
  "cells": [
    {
      "cell_type": "markdown",
      "metadata": {
        "id": "view-in-github",
        "colab_type": "text"
      },
      "source": [
        "<a href=\"https://colab.research.google.com/github/novalsakti02-kibo/Pemerograman-dasar/blob/main/Tugas_4.ipynb\" target=\"_parent\"><img src=\"https://colab.research.google.com/assets/colab-badge.svg\" alt=\"Open In Colab\"/></a>"
      ]
    },
    {
      "cell_type": "code",
      "execution_count": 1,
      "metadata": {
        "colab": {
          "base_uri": "https://localhost:8080/"
        },
        "id": "UKcya24xRvTv",
        "outputId": "c1425505-495d-4958-a9b7-08dd80ad4792"
      },
      "outputs": [
        {
          "output_type": "stream",
          "name": "stdout",
          "text": [
            "total belanja                 : 150000\n",
            "apakah pelanggan member? (y/n): y\n",
            "subtotal                      :Rp 150000\n",
            "diskon                        :Rp 2250.0\n",
            "harga setelah diskon          :Rp 147750.0\n",
            "ppn                           :Rp 16252.5\n",
            "total akhir                   :Rp 164002.5\n"
          ]
        }
      ],
      "source": [
        "\n",
        "# Program Kasir Sederhana\n",
        "subtotal = int(input(\"total belanja                 : \"))\n",
        "member = input(\"apakah pelanggan member? (y/n): \").lower()\n",
        "diskon = (0, 0.015 * subtotal)[(member == \"y\") and (subtotal > 100000)]\n",
        "harga_setelah_diskon = subtotal - diskon\n",
        "ppn = 0.11 * harga_setelah_diskon\n",
        "total_bayar = harga_setelah_diskon + ppn\n",
        "\n",
        "print(\"subtotal                      :Rp\", subtotal)\n",
        "print(\"diskon                        :Rp\", diskon)\n",
        "print(\"harga setelah diskon          :Rp\", harga_setelah_diskon)\n",
        "print(\"ppn                           :Rp\", ppn)\n",
        "print(\"total akhir                   :Rp\", total_bayar)"
      ]
    }
  ]
}