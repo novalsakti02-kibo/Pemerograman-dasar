{
  "nbformat": 4,
  "nbformat_minor": 0,
  "metadata": {
    "colab": {
      "provenance": [],
      "authorship_tag": "ABX9TyOtW9NgWfYvdFk4yrQuWLzp",
      "include_colab_link": true
    },
    "kernelspec": {
      "name": "python3",
      "display_name": "Python 3"
    },
    "language_info": {
      "name": "python"
    }
  },
  "cells": [
    {
      "cell_type": "markdown",
      "metadata": {
        "id": "view-in-github",
        "colab_type": "text"
      },
      "source": [
        "<a href=\"https://colab.research.google.com/github/novalsakti02-kibo/Pemerograman-dasar/blob/main/Latihan%20Soal%202.ipynb\" target=\"_parent\"><img src=\"https://colab.research.google.com/assets/colab-badge.svg\" alt=\"Open In Colab\"/></a>"
      ]
    },
    {
      "cell_type": "code",
      "execution_count": 1,
      "metadata": {
        "colab": {
          "base_uri": "https://localhost:8080/"
        },
        "id": "90y6zawK5Di4",
        "outputId": "5b935776-22c9-46c4-f573-bd498bd52fb6"
      },
      "outputs": [
        {
          "output_type": "stream",
          "name": "stdout",
          "text": [
            "Masukkan panjang: 10\n",
            "Masukkan lebar: 5\n",
            "Luas persegi panjang: 50.0\n",
            "Keliling persegi panjang: 30.0\n"
          ]
        }
      ],
      "source": [
        "# Fungsi untuk menghitung luas dan keliling persegi panjang\n",
        "def persegi_panjang(panjang, lebar):\n",
        "    luas = panjang * lebar\n",
        "    keliling = 2 * (panjang + lebar)\n",
        "    return luas, keliling\n",
        "\n",
        "# Input\n",
        "panjang = float(input(\"Masukkan panjang: \"))\n",
        "lebar = float(input(\"Masukkan lebar: \"))\n",
        "\n",
        "# Proses\n",
        "luas, keliling = persegi_panjang(panjang, lebar)\n",
        "\n",
        "# Output\n",
        "print(f\"Luas persegi panjang: {luas}\")\n",
        "print(f\"Keliling persegi panjang: {keliling}\")\n"
      ]
    }
  ]
}